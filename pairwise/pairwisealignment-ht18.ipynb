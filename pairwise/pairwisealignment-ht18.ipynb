{
 "cells": [
  {
   "cell_type": "markdown",
   "metadata": {},
   "source": [
    "# Pairwise alignment methods\n",
    "## Working copy for lecture\n",
    "\n",
    "To facilitate the the reasoning in the subsequent cells, we first we define a couple of functions that we will need later, for formating and printing alignments. It is not important that you understand what these functions do, for now."
   ]
  },
  {
   "cell_type": "code",
   "execution_count": null,
   "metadata": {
    "collapsed": true
   },
   "outputs": [],
   "source": [
    "import numpy as np\n",
    "\n",
    "# Print 2 sequences on top of each other\n",
    "def print_alignment(seqA,seqB):\n",
    "    print(seqA)\n",
    "    print(seqB)\n",
    "\n",
    "# Print a dynamic programming score matrix\n",
    "# together with its sequences\n",
    "def print_dynamic(seqA,seqB,dpm):\n",
    "    seqA,seqB = \"-\" + seqA, \"-\" + seqB\n",
    "    m,n = len(seqA),len(seqB)\n",
    "    print('{:^5}'.format(\" \"), end=\"\"),\n",
    "    for j in range(n):\n",
    "        print('{:^5}'.format(seqB[j]), end=\"\")\n",
    "    print()\n",
    "    for i in range(m):\n",
    "        print ('{:^5}'.format(seqA[i]), end=\"\")\n",
    "        for j in range(n):\n",
    "            print ('{:5.1f}'.format(dpm[i,j]), end=\"\")\n",
    "        print()\n",
    "    print()\n",
    "\n",
    "# Format an alignment by inserting gaps in sequences\n",
    "def format_alignment(seqA,seqB,S,trace):\n",
    "    print(\"Best score: \" + str(S[-1,-1]))\n",
    "    outA,outB = \"\",\"\"\n",
    "    i,j = len(seqA),len(seqB)\n",
    "    while i>0 or j>0:\n",
    "        di,dj = trace[i,j]\n",
    "        i += int(di)\n",
    "        j += int(dj)\n",
    "        if di == 0:\n",
    "            outA = \"-\" + outA\n",
    "        else:\n",
    "            outA = seqA[i] + outA\n",
    "        if dj == 0:\n",
    "            outB = \"-\" + outB\n",
    "        else:\n",
    "            outB = seqB[j] + outB\n",
    "    return outA,outB"
   ]
  },
  {
   "cell_type": "markdown",
   "metadata": {},
   "source": [
    "## Scoring system for DNA sequences\n",
    "We setup the scoring system we need for the alignment of DNA sequences. Here we use a score system where gaps and miss matches are scored -1 and matches get a score of 1."
   ]
  },
  {
   "cell_type": "code",
   "execution_count": null,
   "metadata": {
    "collapsed": true
   },
   "outputs": [],
   "source": [
    "def gap_penalty():\n",
    "\n",
    "def match_score(letterA,letterB):\n"
   ]
  },
  {
   "cell_type": "markdown",
   "metadata": {},
   "source": [
    "## Global alignments by Needleman-Wunsch\n",
    "Here follows an implementation of the [Needleman-Wunsch](http://www.sciencedirect.com/science/article/pii/0022283670900574) pairwise alignment method. The algorithm is based on dynamic programming.\n",
    "\n",
    "We want to align two sequences $a=a_1,\\ldots,a_{M}$ and $b=b_1,\\ldots,b_{N}$. \n",
    "\n",
    "The dynamic programming matrix $S$ is initiated as:\n",
    "$$S_{i0}=g \\cdot i, \\forall i,$$\n",
    "$$S_{0j}=g \\cdot j, \\forall j$$\n",
    "\n",
    "To facilitate the notation we introduce $m=M+1, n=N+1$.\n"
   ]
  },
  {
   "cell_type": "markdown",
   "metadata": {},
   "source": [
    "Subsequently, the rest of $S$ is filled as:\n",
    "$$S_{ij}=\\max\\left\\{\n",
    "\\begin{array}{ll}\n",
    "S_{i-1,j-1} & +d(a_i,b_j)\\\\\n",
    "S_{i-1,j} & +d(a_i,-)\\\\\n",
    "S_{i,j-1} & +d(-,b_j)\n",
    "\\end{array}\n",
    "\\right.$$\n"
   ]
  },
  {
   "cell_type": "code",
   "execution_count": null,
   "metadata": {
    "collapsed": true
   },
   "outputs": [],
   "source": [
    "def global_align(seqA,seqB,print_dynamic_matrix = False):\n",
    "    # Initiating variables\n",
    "    m, n = len(seqA)+1, len(seqB)+1\n",
    "    S = np.zeros((m,n))       # An m*n matrix, initiated with 0's\n",
    "    trace = np.zeros((m,n,2)) # An m*n matrix, initiated with (0,0)'s\n",
    "    \n",
    "    # Alignment code here\n",
    "    \n",
    "    if print_dynamic_matrix:\n",
    "        print_dynamic(seqA,seqB,S)\n",
    "    return format_alignment(seqA,seqB,S,trace)"
   ]
  },
  {
   "cell_type": "markdown",
   "metadata": {},
   "source": [
    "Now everything is set. We can try the code for any of our favorite sequences. One can toggle the printout of the dynamic programming matrix by a boolean flag as a third argument."
   ]
  },
  {
   "cell_type": "code",
   "execution_count": null,
   "metadata": {
    "collapsed": true
   },
   "outputs": [],
   "source": [
    "seqA,seqB = global_align(\"GATTA\",\"GCTAC\",True)\n",
    "print_alignment(seqA,seqB)"
   ]
  },
  {
   "cell_type": "markdown",
   "metadata": {},
   "source": [
    "As promissed during lecture I add a couple of extra alignments, check them manually as an excercise before the exam."
   ]
  },
  {
   "cell_type": "code",
   "execution_count": null,
   "metadata": {
    "collapsed": true
   },
   "outputs": [],
   "source": [
    "seqA,seqB = global_align(\"GCGATTA\",\"GCTTAC\",True)\n",
    "print_alignment(seqA,seqB)"
   ]
  },
  {
   "cell_type": "code",
   "execution_count": null,
   "metadata": {
    "collapsed": true
   },
   "outputs": [],
   "source": [
    "seqA,seqB = global_align(\"CTATCTCGCTATCCA\",\"CTACGCTATTTCA\",True)\n",
    "print_alignment(seqA,seqB)"
   ]
  },
  {
   "cell_type": "markdown",
   "metadata": {
    "collapsed": true
   },
   "source": [
    "## Local alignments using Smith-Waterman\n",
    "\n",
    "Smith-Waterman alignments are similar to the ones of Needleman-Wunsch. The difference sits in the initiation of the dynamic programming matrix, and how we trace the most optimal alignment. We will implement these difference by redifining some functions.\n",
    "\n",
    "First the initiation of the dynamic programming matrix $S$:\n",
    "$$S_{i0}=0, \\forall i,$$\n",
    "$$S_{0j}=0, \\forall j$$\n"
   ]
  },
  {
   "cell_type": "code",
   "execution_count": null,
   "metadata": {
    "collapsed": true
   },
   "outputs": [],
   "source": [
    "def format_local_alignment(seqA,seqB,S,trace):\n",
    "    outA,outB = \"\",\"\"\n",
    "    i,j = np.unravel_index(S.argmax(),S.shape)\n",
    "    print(\"Best score: \" + str(S[i,j]))\n",
    "    while min(trace[i,j])<0:\n",
    "        di,dj = trace[i,j]\n",
    "        i += int(di)\n",
    "        j += int(dj)\n",
    "        if di == 0:\n",
    "            outA = \"-\" + outA\n",
    "        else:\n",
    "            outA = seqA[i] + outA\n",
    "        if dj == 0:\n",
    "            outB = \"-\" + outB\n",
    "        else:\n",
    "            outB = seqB[j] + outB\n",
    "    return outA,outB\n"
   ]
  },
  {
   "cell_type": "code",
   "execution_count": null,
   "metadata": {
    "collapsed": true
   },
   "outputs": [],
   "source": [
    "# Initiating dynamic programming matrices, S and trace\n",
    "def initiate_local_dp(m,n):\n",
    "    S = np.zeros((m,n))\n",
    "    trace = np.zeros((m,n,2))\n",
    "    S[0,0] = 0.\n",
    "    trace[0,0,:] = (0.,0.)\n",
    "    for i in range(1,m):\n",
    "        S[i,0] = 0\n",
    "        trace[i,0,:] =(0,0)\n",
    "    for j in range(1,n):\n",
    "        S[0,j] = 0\n",
    "        trace[0,j,:] =(0,0)\n",
    "    return S,trace"
   ]
  },
  {
   "cell_type": "markdown",
   "metadata": {},
   "source": [
    "Subsequently, the rest of $S$ is filled as:\n",
    "$$S_{ij}=\\max\\left\\{\n",
    "\\begin{array}{ll}\n",
    "S_{i-1,j-1} & +d(a_i,b_j)\\\\\n",
    "S_{i-1,j} & +d(a_i,-)\\\\\n",
    "S_{i,j-1} & +d(-,b_j)\\\\\n",
    "0\n",
    "\\end{array}\n",
    "\\right.$$\n"
   ]
  },
  {
   "cell_type": "code",
   "execution_count": null,
   "metadata": {
    "collapsed": true
   },
   "outputs": [],
   "source": [
    "def local_align(seqA,seqB,print_dynamic_matrix = False):\n",
    "    # Initiating variables\n",
    "    m, n = len(seqA)+1, len(seqB)+1\n",
    "    S = np.zeros((m,n))\n",
    "    trace = np.zeros((m,n,2))\n",
    "    \n",
    "    # Code here\n",
    "    \n",
    "    if print_dynamic_matrix:\n",
    "        print_dynamic(seqA,seqB,S)\n",
    "    return format_local_alignment(seqA,seqB,S,trace)"
   ]
  },
  {
   "cell_type": "code",
   "execution_count": null,
   "metadata": {
    "collapsed": true
   },
   "outputs": [],
   "source": [
    "seqA,seqB = local_align(\"GATTA\",\"GCTAC\",True)\n",
    "print_alignment(seqA,seqB)"
   ]
  },
  {
   "cell_type": "code",
   "execution_count": null,
   "metadata": {
    "collapsed": true
   },
   "outputs": [],
   "source": [
    "seqA,seqB = local_align(\"GCGATTA\",\"GCTTAC\",True)\n",
    "print_alignment(seqA,seqB)"
   ]
  },
  {
   "cell_type": "code",
   "execution_count": null,
   "metadata": {
    "collapsed": true
   },
   "outputs": [],
   "source": [
    "seqA,seqB = local_align(\"CTATCTCGCTATCCA\",\"CTACGCTATTTCA\",True)\n",
    "print_alignment(seqA,seqB)"
   ]
  },
  {
   "cell_type": "markdown",
   "metadata": {},
   "source": [
    "## Protein sequences\n",
    "\n",
    "We can use the exact same alignment methods for protein sequences, as long as we define an apropriate scoring function. Here we will use a PAM250 matrix for the matches, and a gap penalty of 10. "
   ]
  },
  {
   "cell_type": "code",
   "execution_count": null,
   "metadata": {
    "collapsed": true
   },
   "outputs": [],
   "source": [
    "PAM250 = {\n",
    "'A': {'A': 2,  'C': -2, 'D':  0, 'E': 0, 'F': -3, 'G':  1, 'H': -1, 'I': -1, 'K': -1, 'L': -2, 'M': -1, 'N':  0, 'P':  1, 'Q':  0, 'R': -2, 'S':  1, 'T':  1, 'V':  0, 'W': -6, 'Y': -3},\n",
    "'C': {'A': -2, 'C': 12, 'D': -5, 'E':-5, 'F': -4, 'G': -3, 'H': -3, 'I': -2, 'K': -5, 'L': -6, 'M': -5, 'N': -4, 'P': -3, 'Q': -5, 'R': -4, 'S':  0, 'T': -2, 'V': -2, 'W': -8, 'Y':  0},\n",
    "'D': {'A': 0,  'C': -5, 'D':  4, 'E': 3, 'F': -6, 'G':  1, 'H':  1, 'I': -2, 'K':  0, 'L': -4, 'M': -3, 'N':  2, 'P': -1, 'Q':  2, 'R': -1, 'S':  0, 'T':  0, 'V': -2, 'W': -7, 'Y': -4},\n",
    "'E': {'A': 0,  'C': -5, 'D':  3, 'E': 4, 'F': -5, 'G':  0, 'H':  1, 'I': -2, 'K':  0, 'L': -3, 'M': -2, 'N':  1, 'P': -1, 'Q':  2, 'R': -1, 'S':  0, 'T':  0, 'V': -2, 'W': -7, 'Y': -4},\n",
    "'F': {'A': -3, 'C': -4, 'D': -6, 'E':-5, 'F':  9, 'G': -5, 'H': -2, 'I':  1, 'K': -5, 'L':  2, 'M':  0, 'N': -3, 'P': -5, 'Q': -5, 'R': -4, 'S': -3, 'T': -3, 'V': -1, 'W':  0, 'Y':  7},\n",
    "'G': {'A': 1,  'C': -3, 'D':  1, 'E': 0, 'F': -5, 'G':  5, 'H': -2, 'I': -3, 'K': -2, 'L': -4, 'M': -3, 'N':  0, 'P':  0, 'Q': -1, 'R': -3, 'S':  1, 'T':  0, 'V': -1, 'W': -7, 'Y': -5},\n",
    "'H': {'A': -1, 'C': -3, 'D':  1, 'E': 1, 'F': -2, 'G': -2, 'H':  6, 'I': -2, 'K':  0, 'L': -2, 'M': -2, 'N':  2, 'P':  0, 'Q':  3, 'R':  2, 'S': -1, 'T': -1, 'V': -2, 'W': -3, 'Y':  0},\n",
    "'I': {'A': -1, 'C': -2, 'D': -2, 'E':-2, 'F':  1, 'G': -3, 'H': -2, 'I':  5, 'K': -2, 'L':  2, 'M':  2, 'N': -2, 'P': -2, 'Q': -2, 'R': -2, 'S': -1, 'T':  0, 'V':  4, 'W': -5, 'Y': -1},\n",
    "'K': {'A': -1, 'C': -5, 'D':  0, 'E': 0, 'F': -5, 'G': -2, 'H':  0, 'I': -2, 'K':  5, 'L': -3, 'M':  0, 'N':  1, 'P': -1, 'Q':  1, 'R':  3, 'S':  0, 'T':  0, 'V': -2, 'W': -3, 'Y': -4},\n",
    "'L': {'A': -2, 'C': -6, 'D': -4, 'E':-3, 'F':  2, 'G': -4, 'H': -2, 'I':  2, 'K': -3, 'L':  6, 'M':  4, 'N': -3, 'P': -3, 'Q': -2, 'R': -3, 'S': -3, 'T': -2, 'V':  2, 'W': -2, 'Y': -1},\n",
    "'M': {'A': -1, 'C': -5, 'D': -3, 'E':-2, 'F':  0, 'G': -3, 'H': -2, 'I':  2, 'K':  0, 'L':  4, 'M':  6, 'N': -2, 'P': -2, 'Q': -1, 'R':  0, 'S': -2, 'T': -1, 'V':  2, 'W': -4, 'Y': -2},\n",
    "'N': {'A': 0,  'C': -4, 'D':  2, 'E': 1, 'F': -3, 'G':  0, 'H':  2, 'I': -2, 'K':  1, 'L': -3, 'M': -2, 'N':  2, 'P':  0, 'Q':  1, 'R':  0, 'S':  1, 'T':  0, 'V': -2, 'W': -4, 'Y': -2},\n",
    "'P': {'A': 1,  'C': -3, 'D': -1, 'E':-1, 'F': -5, 'G':  0, 'H':  0, 'I': -2, 'K': -1, 'L': -3, 'M': -2, 'N':  0, 'P':  6, 'Q':  0, 'R':  0, 'S':  1, 'T':  0, 'V': -1, 'W': -6, 'Y': -5},\n",
    "'Q': {'A': 0,  'C': -5, 'D':  2, 'E': 2, 'F': -5, 'G': -1, 'H':  3, 'I': -2, 'K':  1, 'L': -2, 'M': -1, 'N':  1, 'P':  0, 'Q':  4, 'R':  1, 'S': -1, 'T': -1, 'V': -2, 'W': -5, 'Y': -4},\n",
    "'R': {'A': -2, 'C': -4, 'D': -1, 'E':-1, 'F': -4, 'G': -3, 'H':  2, 'I': -2, 'K':  3, 'L': -3, 'M':  0, 'N':  0, 'P':  0, 'Q':  1, 'R':  6, 'S':  0, 'T': -1, 'V': -2, 'W':  2, 'Y': -4},\n",
    "'S': {'A': 1,  'C':  0, 'D':  0, 'E': 0, 'F': -3, 'G':  1, 'H': -1, 'I': -1, 'K':  0, 'L': -3, 'M': -2, 'N':  1, 'P':  1, 'Q': -1, 'R':  0, 'S':  2, 'T':  1, 'V': -1, 'W': -2, 'Y': -3},\n",
    "'T': {'A': 1,  'C': -2, 'D':  0, 'E': 0, 'F': -3, 'G':  0, 'H': -1, 'I':  0, 'K':  0, 'L': -2, 'M': -1, 'N':  0, 'P':  0, 'Q': -1, 'R': -1, 'S':  1, 'T':  3, 'V':  0, 'W': -5, 'Y': -3},\n",
    "'V': {'A': 0,  'C': -2, 'D': -2, 'E':-2, 'F': -1, 'G': -1, 'H': -2, 'I':  4, 'K': -2, 'L':  2, 'M':  2, 'N': -2, 'P': -1, 'Q': -2, 'R': -2, 'S': -1, 'T':  0, 'V':  4, 'W': -6, 'Y': -2},\n",
    "'W': {'A': -6, 'C': -8, 'D': -7, 'E':-7, 'F':  0, 'G': -7, 'H': -3, 'I': -5, 'K': -3, 'L': -2, 'M': -4, 'N': -4, 'P': -6, 'Q': -5, 'R':  2, 'S': -2, 'T': -5, 'V': -6, 'W': 17, 'Y':  0},\n",
    "'Y': {'A': -3, 'C':  0, 'D': -4, 'E':-4, 'F':  7, 'G': -5, 'H':  0, 'I': -1, 'K': -4, 'L': -1, 'M': -2, 'N': -2, 'P': -5, 'Q': -4, 'R': -4, 'S': -3, 'T': -3, 'V': -2, 'W':  0, 'Y': 10}}\n",
    "\n",
    "def gap_penalty():\n",
    "    return -10.0\n",
    "\n",
    "def match_score(letterA,letterB):\n",
    "    if letterA == '-' or letterB == '-':\n",
    "        return gap_penalty()\n",
    "    else:\n",
    "        return PAM250[letterA][letterB]\n"
   ]
  },
  {
   "cell_type": "code",
   "execution_count": null,
   "metadata": {
    "collapsed": true
   },
   "outputs": [],
   "source": [
    "seqA,seqB = global_align(\"IAMAPEPTIDE\",\"IAMPEPPED\",True)\n",
    "print_alignment(seqA,seqB)"
   ]
  },
  {
   "cell_type": "code",
   "execution_count": null,
   "metadata": {
    "collapsed": true
   },
   "outputs": [],
   "source": [
    "seqA,seqB = global_align(\"MYPERFECTDAY\",\"THERESAMAY\",False)\n",
    "print_alignment(seqA,seqB)"
   ]
  },
  {
   "cell_type": "code",
   "execution_count": null,
   "metadata": {
    "collapsed": true
   },
   "outputs": [],
   "source": [
    "seqA,seqB = local_align(\"MYPERFECTDAY\",\"THERESAMAY\",False)\n",
    "print_alignment(seqA,seqB)"
   ]
  },
  {
   "cell_type": "code",
   "execution_count": null,
   "metadata": {
    "collapsed": true
   },
   "outputs": [],
   "source": []
  }
 ],
 "metadata": {
  "kernelspec": {
   "display_name": "py36",
   "language": "python",
   "name": "py36"
  },
  "language_info": {
   "codemirror_mode": {
    "name": "ipython",
    "version": 3
   },
   "file_extension": ".py",
   "mimetype": "text/x-python",
   "name": "python",
   "nbconvert_exporter": "python",
   "pygments_lexer": "ipython3",
   "version": "3.6.5"
  }
 },
 "nbformat": 4,
 "nbformat_minor": 2
}

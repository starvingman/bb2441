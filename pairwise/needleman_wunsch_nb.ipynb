{
 "cells": [
  {
   "cell_type": "markdown",
   "metadata": {},
   "source": [
    "First we define a couple of functions that we will need later, for formating and printing alignments"
   ]
  },
  {
   "cell_type": "code",
   "execution_count": 10,
   "metadata": {
    "collapsed": true
   },
   "outputs": [],
   "source": [
    "import argparse\n",
    "import numpy as np\n",
    "\n",
    "def print_alignment(seqA,seqB):\n",
    "  print(seqA)\n",
    "  print(seqB)\n",
    "\n",
    "def print_dynamic(seqA,seqB,dpm):\n",
    "  seqA,seqB = \"-\" + seqA, \"-\" + seqB\n",
    "  m,n = len(seqA),len(seqB)\n",
    "  print '{:^5}'.format(\" \"),\n",
    "  for j in range(n):\n",
    "    print '{:^5}'.format(seqB[j]),\n",
    "  print\n",
    "  for i in range(m):\n",
    "    print '{:^5}'.format(seqA[i]),\n",
    "    for j in range(n):\n",
    "        print '{:5.1f}'.format(dpm[i,j]),\n",
    "    print\n",
    "  print\n",
    "\n",
    "def format_alignment(seqA,seqB,trace):\n",
    "  outA,outB = \"\",\"\"\n",
    "  i,j = len(seqA),len(seqB)\n",
    "  while i>0 or j>0:\n",
    "    di,dj = trace[i,j]\n",
    "    i += int(di)\n",
    "    j += int(dj)\n",
    "    if di == 0:\n",
    "      outA = \"-\" + outA\n",
    "    else:\n",
    "      outA = seqA[i] + outA\n",
    "    if dj == 0:\n",
    "      outB = \"-\" + outB\n",
    "    else:\n",
    "      outB = seqB[j] + outB\n",
    "  return outA,outB"
   ]
  },
  {
   "cell_type": "markdown",
   "metadata": {},
   "source": [
    "Then we setup the scoring system we need for the alignment"
   ]
  },
  {
   "cell_type": "code",
   "execution_count": 11,
   "metadata": {
    "collapsed": true
   },
   "outputs": [],
   "source": [
    "gap_penalty = -1.0\n",
    "\n",
    "def match_score(letterA,letterB):\n",
    "  if letterA == letterB:\n",
    "    return 1.0\n",
    "  else:\n",
    "    return -1.0\n"
   ]
  },
  {
   "cell_type": "markdown",
   "metadata": {},
   "source": [
    "Now we turn our attention to the core of the Needleman-Wunsch, the dynamic programming"
   ]
  },
  {
   "cell_type": "code",
   "execution_count": 15,
   "metadata": {
    "collapsed": true
   },
   "outputs": [],
   "source": [
    "def align(seqA,seqB,print_dynamic_matrix = False):\n",
    "    # Initiating variables\n",
    "    m, n = len(seqA)+1, len(seqB)+1\n",
    "    S = np.zeros((m,n))\n",
    "    trace = np.zeros((m,n,2))\n",
    "    # Set up dynamic programming matrices\n",
    "    S[0,0] = 0.\n",
    "    trace[0,0,:] = (0.,0.)\n",
    "    for i in range(1,m):\n",
    "        S[i,0] = i * gap_penalty\n",
    "        trace[i,0,:] =(-1,0)\n",
    "    for j in range(1,n):\n",
    "        S[0,j] = j * gap_penalty\n",
    "        trace[0,j,:] =(0,-1)\n",
    "    for i in range(1,m):\n",
    "        for j in range(1,n):\n",
    "            # Note the subtraction of 1 for the sequence position\n",
    "            #\n",
    "            match = S[i-1,j-1] + match_score(seqA[i-1],seqB[j-1]) \n",
    "            delete = S[i-1,j] + gap_penalty\n",
    "            insert = S[i,j-1] + gap_penalty\n",
    "            S[i,j] = max(match,delete,insert)\n",
    "            if match >= max(insert,delete):\n",
    "                trace[i,j,:] = (-1,-1)\n",
    "            elif delete >= insert:\n",
    "                trace[i,j,:] = (-1,0)\n",
    "            else:\n",
    "                trace[i,j,:] = (0,-1)\n",
    "    if print_dynamic_matrix:\n",
    "        print_dynamic(seqA,seqB,S)\n",
    "    print(\"Best score: \" + str(S[m-1,n-1]))\n",
    "    return format_alignment(seqA,seqB,trace)"
   ]
  },
  {
   "cell_type": "markdown",
   "metadata": {},
   "source": [
    "Now everything is set. We can try the code for any of our favorite sequences. One can toggle the printout of the dynamic programming matrix by a boolean flag as a third argument."
   ]
  },
  {
   "cell_type": "code",
   "execution_count": 16,
   "metadata": {},
   "outputs": [
    {
     "name": "stdout",
     "output_type": "stream",
     "text": [
      "        -     G     C     T     A     C  \n",
      "  -     0.0  -1.0  -2.0  -3.0  -4.0  -5.0\n",
      "  G    -1.0   1.0   0.0  -1.0  -2.0  -3.0\n",
      "  A    -2.0   0.0   0.0  -1.0   0.0  -1.0\n",
      "  T    -3.0  -1.0  -1.0   1.0   0.0  -1.0\n",
      "  T    -4.0  -2.0  -2.0   0.0   0.0  -1.0\n",
      "  A    -5.0  -3.0  -3.0  -1.0   1.0   0.0\n",
      "\n",
      "Best score: 0.0\n",
      "GATTA-\n",
      "G-CTAC\n"
     ]
    }
   ],
   "source": [
    "seqA,seqB = align(\"GATTA\",\"GCTAC\",True)\n",
    "print_alignment(seqA,seqB)"
   ]
  },
  {
   "cell_type": "raw",
   "metadata": {},
   "source": [
    "As promissed during lecture I add a couple of extra alignments, check them manually as an excercise before the exam."
   ]
  },
  {
   "cell_type": "code",
   "execution_count": 17,
   "metadata": {},
   "outputs": [
    {
     "name": "stdout",
     "output_type": "stream",
     "text": [
      "        -     G     C     T     T     A     C  \n",
      "  -     0.0  -1.0  -2.0  -3.0  -4.0  -5.0  -6.0\n",
      "  G    -1.0   1.0   0.0  -1.0  -2.0  -3.0  -4.0\n",
      "  C    -2.0   0.0   2.0   1.0   0.0  -1.0  -2.0\n",
      "  G    -3.0  -1.0   1.0   1.0   0.0  -1.0  -2.0\n",
      "  A    -4.0  -2.0   0.0   0.0   0.0   1.0   0.0\n",
      "  T    -5.0  -3.0  -1.0   1.0   1.0   0.0   0.0\n",
      "  T    -6.0  -4.0  -2.0   0.0   2.0   1.0   0.0\n",
      "  A    -7.0  -5.0  -3.0  -1.0   1.0   3.0   2.0\n",
      "\n",
      "Best score: 2.0\n",
      "GCGATTA-\n",
      "GC--TTAC\n"
     ]
    }
   ],
   "source": [
    "seqA,seqB = align(\"GCGATTA\",\"GCTTAC\",True)\n",
    "print_alignment(seqA,seqB)"
   ]
  },
  {
   "cell_type": "code",
   "execution_count": 18,
   "metadata": {},
   "outputs": [
    {
     "name": "stdout",
     "output_type": "stream",
     "text": [
      "        -     G     C     T     A     G     C     T     A  \n",
      "  -     0.0  -1.0  -2.0  -3.0  -4.0  -5.0  -6.0  -7.0  -8.0\n",
      "  G    -1.0   1.0   0.0  -1.0  -2.0  -3.0  -4.0  -5.0  -6.0\n",
      "  C    -2.0   0.0   2.0   1.0   0.0  -1.0  -2.0  -3.0  -4.0\n",
      "  T    -3.0  -1.0   1.0   3.0   2.0   1.0   0.0  -1.0  -2.0\n",
      "  A    -4.0  -2.0   0.0   2.0   4.0   3.0   2.0   1.0   0.0\n",
      "  T    -5.0  -3.0  -1.0   1.0   3.0   3.0   2.0   3.0   2.0\n",
      "  C    -6.0  -4.0  -2.0   0.0   2.0   2.0   4.0   3.0   2.0\n",
      "  T    -7.0  -5.0  -3.0  -1.0   1.0   1.0   3.0   5.0   4.0\n",
      "  C    -8.0  -6.0  -4.0  -2.0   0.0   0.0   2.0   4.0   4.0\n",
      "  G    -9.0  -7.0  -5.0  -3.0  -1.0   1.0   1.0   3.0   3.0\n",
      "  C   -10.0  -8.0  -6.0  -4.0  -2.0   0.0   2.0   2.0   2.0\n",
      "  T   -11.0  -9.0  -7.0  -5.0  -3.0  -1.0   1.0   3.0   2.0\n",
      "  A   -12.0 -10.0  -8.0  -6.0  -4.0  -2.0   0.0   2.0   4.0\n",
      "\n",
      "Best score: 4.0\n",
      "GCTATCTCGCTA\n",
      "GCTA----GCTA\n"
     ]
    }
   ],
   "source": [
    "seqA,seqB = align(\"GCTATCTCGCTA\",\"GCTAGCTA\",True)\n",
    "print_alignment(seqA,seqB)"
   ]
  },
  {
   "cell_type": "code",
   "execution_count": null,
   "metadata": {
    "collapsed": true
   },
   "outputs": [],
   "source": []
  }
 ],
 "metadata": {
  "kernelspec": {
   "display_name": "Python 2",
   "language": "python",
   "name": "python2"
  },
  "language_info": {
   "codemirror_mode": {
    "name": "ipython",
    "version": 2
   },
   "file_extension": ".py",
   "mimetype": "text/x-python",
   "name": "python",
   "nbconvert_exporter": "python",
   "pygments_lexer": "ipython2",
   "version": "2.7.13"
  }
 },
 "nbformat": 4,
 "nbformat_minor": 2
}

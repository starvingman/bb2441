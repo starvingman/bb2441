{
 "cells": [
  {
   "cell_type": "markdown",
   "metadata": {},
   "source": [
    "First we define a couple of functions that we will need later, for formating and printing alignments"
   ]
  },
  {
   "cell_type": "code",
   "execution_count": 3,
   "metadata": {
    "collapsed": true
   },
   "outputs": [],
   "source": [
    "import argparse\n",
    "import numpy as np\n",
    "\n",
    "def print_alignment(seqA,seqB):\n",
    "  print(seqA)\n",
    "  print(seqB)\n",
    "\n",
    "def print_dynamic(seqA,seqB,dpm):\n",
    "  seqA,seqB = \"-\" + seqA, \"-\" + seqB\n",
    "  m,n = len(seqA),len(seqB)\n",
    "  print '{:^5}'.format(\" \"),\n",
    "  for j in range(n):\n",
    "    print '{:^5}'.format(seqB[j]),\n",
    "  print\n",
    "  for i in range(m):\n",
    "    print '{:^5}'.format(seqA[i]),\n",
    "    for j in range(n):\n",
    "        print '{:5.1f}'.format(dpm[i,j]),\n",
    "    print\n",
    "  print\n",
    "\n",
    "def format_alignment(seqA,seqB,trace):\n",
    "  outA,outB = \"\",\"\"\n",
    "  i,j = len(seqA),len(seqB)\n",
    "  while i>0 or j>0:\n",
    "    di,dj = trace[i,j]\n",
    "    i += int(di)\n",
    "    j += int(dj)\n",
    "    if di == 0:\n",
    "      outA = \"-\" + outA\n",
    "    else:\n",
    "      outA = seqA[i] + outA\n",
    "    if dj == 0:\n",
    "      outB = \"-\" + outB\n",
    "    else:\n",
    "      outB = seqB[j] + outB\n",
    "  return outA,outB"
   ]
  },
  {
   "cell_type": "markdown",
   "metadata": {},
   "source": [
    "Then we setup the scoring system we need for the alignment"
   ]
  },
  {
   "cell_type": "code",
   "execution_count": 4,
   "metadata": {
    "collapsed": true
   },
   "outputs": [],
   "source": [
    "gap_penalty = -1.0\n",
    "\n",
    "def match_score(letterA,letterB):\n",
    "  if letterA == letterB:\n",
    "    return 1.0\n",
    "  else:\n",
    "    return -1.0\n"
   ]
  },
  {
   "cell_type": "markdown",
   "metadata": {},
   "source": [
    "Now we turn our attention to the core of the Needleman-Wunsch, the dynamic programming"
   ]
  },
  {
   "cell_type": "code",
   "execution_count": 5,
   "metadata": {
    "collapsed": true
   },
   "outputs": [],
   "source": [
    "def align(seqA,seqB,print_dynamic_matrix = False):\n",
    "  # Initiating variables\n",
    "  m, n = len(seqA)+1, len(seqB)+1\n",
    "  S = np.zeros((m,n))\n",
    "  trace = np.zeros((m,n,2))\n",
    "  # Set up dynamic programming matrices\n",
    "  S[0,0] = 0.\n",
    "  trace[0,0,:] = (0.,0.)\n",
    "  for i in range(1,m):\n",
    "    S[i,0] = gap_penalty * i\n",
    "    trace[i,0,:] = (-1.,0.)\n",
    "  for j in range(1,n):\n",
    "    S[0,j] = gap_penalty * j\n",
    "    trace[0,j,:] = (0.,-1.)\n",
    "  # Set up dynamic programming matrices\n",
    "  for i in range(1,m):\n",
    "    for j in range(1,n):\n",
    "      match = S[i-1][j-1] + match_score(seqA[i-1],seqB[j-1])\n",
    "      delete = S[i-1][j] + gap_penalty\n",
    "      insert = S[i][j-1] + gap_penalty\n",
    "      S[i,j] = max(match, delete, insert)\n",
    "      if match >= max(delete,insert):\n",
    "        trace[i,j,:] = (-1,-1.)\n",
    "      elif delete >= insert:\n",
    "        trace[i,j,:] = (-1,0)\n",
    "      else:\n",
    "        trace[i,j,:] = (0,-1)\n",
    "  if print_dynamic_matrix:\n",
    "      print_dynamic(seqA,seqB,S)\n",
    "  print(\"Best score: \" + str(S[m-1,n-1]))\n",
    "  return format_alignment(seqA,seqB,trace)"
   ]
  },
  {
   "cell_type": "markdown",
   "metadata": {},
   "source": [
    "Now everything is set. We can try the code for any of our favorite sequences. One can toggle the printout of the dynamic programming matrix by a boolean flag as a third argument."
   ]
  },
  {
   "cell_type": "code",
   "execution_count": 6,
   "metadata": {
    "collapsed": false
   },
   "outputs": [
    {
     "name": "stdout",
     "output_type": "stream",
     "text": [
      "        -     A     N     A     N     A     S  \n",
      "  -     0.0  -1.0  -2.0  -3.0  -4.0  -5.0  -6.0\n",
      "  B    -1.0  -1.0  -2.0  -3.0  -4.0  -5.0  -6.0\n",
      "  A    -2.0   0.0  -1.0  -1.0  -2.0  -3.0  -4.0\n",
      "  N    -3.0  -1.0   1.0   0.0   0.0  -1.0  -2.0\n",
      "  A    -4.0  -2.0   0.0   2.0   1.0   1.0   0.0\n",
      "  N    -5.0  -3.0  -1.0   1.0   3.0   2.0   1.0\n",
      "  A    -6.0  -4.0  -2.0   0.0   2.0   4.0   3.0\n",
      "\n",
      "Best score: 3.0\n",
      "BANANA-\n",
      "-ANANAS\n"
     ]
    }
   ],
   "source": [
    "seqA,seqB = align(\"BANANA\",\"ANANAS\",True)\n",
    "print_alignment(seqA,seqB)"
   ]
  },
  {
   "cell_type": "code",
   "execution_count": null,
   "metadata": {
    "collapsed": true
   },
   "outputs": [],
   "source": []
  }
 ],
 "metadata": {
  "kernelspec": {
   "display_name": "Python 2",
   "language": "python",
   "name": "python2"
  },
  "language_info": {
   "codemirror_mode": {
    "name": "ipython",
    "version": 2
   },
   "file_extension": ".py",
   "mimetype": "text/x-python",
   "name": "python",
   "nbconvert_exporter": "python",
   "pygments_lexer": "ipython2",
   "version": "2.7.13"
  }
 },
 "nbformat": 4,
 "nbformat_minor": 2
}

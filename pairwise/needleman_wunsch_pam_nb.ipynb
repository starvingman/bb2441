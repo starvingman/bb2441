{
 "cells": [
  {
   "cell_type": "markdown",
   "metadata": {},
   "source": [
    "Here is a copy of [the Needleman-Wunch algorithm](http://www.sciencedirect.com/science/article/pii/0022283670900574) using a [PAM250-scoring matrix](http://prowl.rockefeller.edu/aainfo/pam250.htm) for match distance calculations.\n",
    "\n",
    "As before, we define a couple of functions that we will need later, for formating and printing alignments"
   ]
  },
  {
   "cell_type": "code",
   "execution_count": 1,
   "metadata": {
    "collapsed": true
   },
   "outputs": [],
   "source": [
    "import argparse\n",
    "import numpy as np\n",
    "\n",
    "def print_alignment(seqA,seqB):\n",
    "  print(seqA)\n",
    "  print(seqB)\n",
    "\n",
    "def print_dynamic(seqA,seqB,dpm):\n",
    "  seqA,seqB = \"-\" + seqA, \"-\" + seqB\n",
    "  m,n = len(seqA),len(seqB)\n",
    "  print '{:^5}'.format(\" \"),\n",
    "  for j in range(n):\n",
    "    print '{:^5}'.format(seqB[j]),\n",
    "  print\n",
    "  for i in range(m):\n",
    "    print '{:^5}'.format(seqA[i]),\n",
    "    for j in range(n):\n",
    "        print '{:5.1f}'.format(dpm[i,j]),\n",
    "    print\n",
    "  print\n",
    "\n",
    "def format_alignment(seqA,seqB,trace):\n",
    "  outA,outB = \"\",\"\"\n",
    "  i,j = len(seqA),len(seqB)\n",
    "  while i>0 or j>0:\n",
    "    di,dj = trace[i,j]\n",
    "    i += int(di)\n",
    "    j += int(dj)\n",
    "    if di == 0:\n",
    "      outA = \"-\" + outA\n",
    "    else:\n",
    "      outA = seqA[i] + outA\n",
    "    if dj == 0:\n",
    "      outB = \"-\" + outB\n",
    "    else:\n",
    "      outB = seqB[j] + outB\n",
    "  return outA,outB"
   ]
  },
  {
   "cell_type": "markdown",
   "metadata": {},
   "source": [
    "Then we setup the scoring system we need for the alignment. Here is the only difference from the previous notebook; we are scoring based on the PAM250 scoring matrix."
   ]
  },
  {
   "cell_type": "code",
   "execution_count": 5,
   "metadata": {
    "collapsed": true
   },
   "outputs": [],
   "source": [
    "gap_penalty = -1.0\n",
    "\n",
    "def match_score(letterA,letterB):\n",
    "  return PAM250[letterA][letterB]\n",
    "\n",
    "PAM250 = {\n",
    "'A': {'A': 2,  'C': -2, 'D':  0, 'E': 0, 'F': -3, 'G':  1, 'H': -1, 'I': -1, 'K': -1, 'L': -2, 'M': -1, 'N':  0, 'P':  1, 'Q':  0, 'R': -2, 'S':  1, 'T':  1, 'V':  0, 'W': -6, 'Y': -3},\n",
    "'C': {'A': -2, 'C': 12, 'D': -5, 'E':-5, 'F': -4, 'G': -3, 'H': -3, 'I': -2, 'K': -5, 'L': -6, 'M': -5, 'N': -4, 'P': -3, 'Q': -5, 'R': -4, 'S':  0, 'T': -2, 'V': -2, 'W': -8, 'Y':  0},\n",
    "'D': {'A': 0,  'C': -5, 'D':  4, 'E': 3, 'F': -6, 'G':  1, 'H':  1, 'I': -2, 'K':  0, 'L': -4, 'M': -3, 'N':  2, 'P': -1, 'Q':  2, 'R': -1, 'S':  0, 'T':  0, 'V': -2, 'W': -7, 'Y': -4},\n",
    "'E': {'A': 0,  'C': -5, 'D':  3, 'E': 4, 'F': -5, 'G':  0, 'H':  1, 'I': -2, 'K':  0, 'L': -3, 'M': -2, 'N':  1, 'P': -1, 'Q':  2, 'R': -1, 'S':  0, 'T':  0, 'V': -2, 'W': -7, 'Y': -4},\n",
    "'F': {'A': -3, 'C': -4, 'D': -6, 'E':-5, 'F':  9, 'G': -5, 'H': -2, 'I':  1, 'K': -5, 'L':  2, 'M':  0, 'N': -3, 'P': -5, 'Q': -5, 'R': -4, 'S': -3, 'T': -3, 'V': -1, 'W':  0, 'Y':  7},\n",
    "'G': {'A': 1,  'C': -3, 'D':  1, 'E': 0, 'F': -5, 'G':  5, 'H': -2, 'I': -3, 'K': -2, 'L': -4, 'M': -3, 'N':  0, 'P':  0, 'Q': -1, 'R': -3, 'S':  1, 'T':  0, 'V': -1, 'W': -7, 'Y': -5},\n",
    "'H': {'A': -1, 'C': -3, 'D':  1, 'E': 1, 'F': -2, 'G': -2, 'H':  6, 'I': -2, 'K':  0, 'L': -2, 'M': -2, 'N':  2, 'P':  0, 'Q':  3, 'R':  2, 'S': -1, 'T': -1, 'V': -2, 'W': -3, 'Y':  0},\n",
    "'I': {'A': -1, 'C': -2, 'D': -2, 'E':-2, 'F':  1, 'G': -3, 'H': -2, 'I':  5, 'K': -2, 'L':  2, 'M':  2, 'N': -2, 'P': -2, 'Q': -2, 'R': -2, 'S': -1, 'T':  0, 'V':  4, 'W': -5, 'Y': -1},\n",
    "'K': {'A': -1, 'C': -5, 'D':  0, 'E': 0, 'F': -5, 'G': -2, 'H':  0, 'I': -2, 'K':  5, 'L': -3, 'M':  0, 'N':  1, 'P': -1, 'Q':  1, 'R':  3, 'S':  0, 'T':  0, 'V': -2, 'W': -3, 'Y': -4},\n",
    "'L': {'A': -2, 'C': -6, 'D': -4, 'E':-3, 'F':  2, 'G': -4, 'H': -2, 'I':  2, 'K': -3, 'L':  6, 'M':  4, 'N': -3, 'P': -3, 'Q': -2, 'R': -3, 'S': -3, 'T': -2, 'V':  2, 'W': -2, 'Y': -1},\n",
    "'M': {'A': -1, 'C': -5, 'D': -3, 'E':-2, 'F':  0, 'G': -3, 'H': -2, 'I':  2, 'K':  0, 'L':  4, 'M':  6, 'N': -2, 'P': -2, 'Q': -1, 'R':  0, 'S': -2, 'T': -1, 'V':  2, 'W': -4, 'Y': -2},\n",
    "'N': {'A': 0,  'C': -4, 'D':  2, 'E': 1, 'F': -3, 'G':  0, 'H':  2, 'I': -2, 'K':  1, 'L': -3, 'M': -2, 'N':  2, 'P':  0, 'Q':  1, 'R':  0, 'S':  1, 'T':  0, 'V': -2, 'W': -4, 'Y': -2},\n",
    "'P': {'A': 1,  'C': -3, 'D': -1, 'E':-1, 'F': -5, 'G':  0, 'H':  0, 'I': -2, 'K': -1, 'L': -3, 'M': -2, 'N':  0, 'P':  6, 'Q':  0, 'R':  0, 'S':  1, 'T':  0, 'V': -1, 'W': -6, 'Y': -5},\n",
    "'Q': {'A': 0,  'C': -5, 'D':  2, 'E': 2, 'F': -5, 'G': -1, 'H':  3, 'I': -2, 'K':  1, 'L': -2, 'M': -1, 'N':  1, 'P':  0, 'Q':  4, 'R':  1, 'S': -1, 'T': -1, 'V': -2, 'W': -5, 'Y': -4},\n",
    "'R': {'A': -2, 'C': -4, 'D': -1, 'E':-1, 'F': -4, 'G': -3, 'H':  2, 'I': -2, 'K':  3, 'L': -3, 'M':  0, 'N':  0, 'P':  0, 'Q':  1, 'R':  6, 'S':  0, 'T': -1, 'V': -2, 'W':  2, 'Y': -4},\n",
    "'S': {'A': 1,  'C':  0, 'D':  0, 'E': 0, 'F': -3, 'G':  1, 'H': -1, 'I': -1, 'K':  0, 'L': -3, 'M': -2, 'N':  1, 'P':  1, 'Q': -1, 'R':  0, 'S':  2, 'T':  1, 'V': -1, 'W': -2, 'Y': -3},\n",
    "'T': {'A': 1,  'C': -2, 'D':  0, 'E': 0, 'F': -3, 'G':  0, 'H': -1, 'I':  0, 'K':  0, 'L': -2, 'M': -1, 'N':  0, 'P':  0, 'Q': -1, 'R': -1, 'S':  1, 'T':  3, 'V':  0, 'W': -5, 'Y': -3},\n",
    "'V': {'A': 0,  'C': -2, 'D': -2, 'E':-2, 'F': -1, 'G': -1, 'H': -2, 'I':  4, 'K': -2, 'L':  2, 'M':  2, 'N': -2, 'P': -1, 'Q': -2, 'R': -2, 'S': -1, 'T':  0, 'V':  4, 'W': -6, 'Y': -2},\n",
    "'W': {'A': -6, 'C': -8, 'D': -7, 'E':-7, 'F':  0, 'G': -7, 'H': -3, 'I': -5, 'K': -3, 'L': -2, 'M': -4, 'N': -4, 'P': -6, 'Q': -5, 'R':  2, 'S': -2, 'T': -5, 'V': -6, 'W': 17, 'Y':  0},\n",
    "'Y': {'A': -3, 'C':  0, 'D': -4, 'E':-4, 'F':  7, 'G': -5, 'H':  0, 'I': -1, 'K': -4, 'L': -1, 'M': -2, 'N': -2, 'P': -5, 'Q': -4, 'R': -4, 'S': -3, 'T': -3, 'V': -2, 'W':  0, 'Y': 10}}\n"
   ]
  },
  {
   "cell_type": "markdown",
   "metadata": {},
   "source": [
    "We are using the same dynamic programming as previoulsy."
   ]
  },
  {
   "cell_type": "code",
   "execution_count": 6,
   "metadata": {
    "collapsed": true
   },
   "outputs": [],
   "source": [
    "def align(seqA,seqB,print_dynamic_matrix = False):\n",
    "    # Initiating variables\n",
    "    m, n = len(seqA)+1, len(seqB)+1\n",
    "    S = np.zeros((m,n))\n",
    "    trace = np.zeros((m,n,2))\n",
    "    # Set up dynamic programming matrices\n",
    "    S[0,0] = 0.\n",
    "    trace[0,0,:] = (0.,0.)\n",
    "    for i in range(1,m):\n",
    "        S[i,0] = i * gap_penalty\n",
    "        trace[i,0,:] =(-1,0)\n",
    "    for j in range(1,n):\n",
    "        S[0,j] = j * gap_penalty\n",
    "        trace[0,j,:] =(0,-1)\n",
    "    for i in range(1,m):\n",
    "        for j in range(1,n):\n",
    "            # Note the subtraction of 1 for the sequence position\n",
    "            #\n",
    "            match = S[i-1,j-1] + match_score(seqA[i-1],seqB[j-1]) \n",
    "            delete = S[i-1,j] + gap_penalty\n",
    "            insert = S[i,j-1] + gap_penalty\n",
    "            S[i,j] = max(match,delete,insert)\n",
    "            if match >= max(insert,delete):\n",
    "                trace[i,j,:] = (-1,-1)\n",
    "            elif delete >= insert:\n",
    "                trace[i,j,:] = (-1,0)\n",
    "            else:\n",
    "                trace[i,j,:] = (0,-1)\n",
    "    if print_dynamic_matrix:\n",
    "        print_dynamic(seqA,seqB,S)\n",
    "    print(\"Best score: \" + str(S[m-1,n-1]))\n",
    "    return format_alignment(seqA,seqB,trace)"
   ]
  },
  {
   "cell_type": "markdown",
   "metadata": {},
   "source": [
    "Now everything is set. We can try the code for any of our favorite sequences. "
   ]
  },
  {
   "cell_type": "code",
   "execution_count": 7,
   "metadata": {},
   "outputs": [
    {
     "name": "stdout",
     "output_type": "stream",
     "text": [
      "        -     I     A     M     P     E     P     P     E     D  \n",
      "  -     0.0  -1.0  -2.0  -3.0  -4.0  -5.0  -6.0  -7.0  -8.0  -9.0\n",
      "  I    -1.0   5.0   4.0   3.0   2.0   1.0   0.0  -1.0  -2.0  -3.0\n",
      "  A    -2.0   4.0   7.0   6.0   5.0   4.0   3.0   2.0   1.0   0.0\n",
      "  M    -3.0   3.0   6.0  13.0  12.0  11.0  10.0   9.0   8.0   7.0\n",
      "  A    -4.0   2.0   5.0  12.0  14.0  13.0  12.0  11.0  10.0   9.0\n",
      "  P    -5.0   1.0   4.0  11.0  18.0  17.0  19.0  18.0  17.0  16.0\n",
      "  E    -6.0   0.0   3.0  10.0  17.0  22.0  21.0  20.0  22.0  21.0\n",
      "  P    -7.0  -1.0   2.0   9.0  16.0  21.0  28.0  27.0  26.0  25.0\n",
      "  T    -8.0  -2.0   1.0   8.0  15.0  20.0  27.0  28.0  27.0  26.0\n",
      "  I    -9.0  -3.0   0.0   7.0  14.0  19.0  26.0  27.0  26.0  25.0\n",
      "  D   -10.0  -4.0  -1.0   6.0  13.0  18.0  25.0  26.0  30.0  30.0\n",
      "  E   -11.0  -5.0  -2.0   5.0  12.0  17.0  24.0  25.0  30.0  33.0\n",
      "\n",
      "Best score: 33.0\n",
      "IAMAPEPTIDE\n",
      "IAM-PEPP-ED\n"
     ]
    }
   ],
   "source": [
    "seqA,seqB = align(\"IAMAPEPTIDE\",\"IAMPEPPED\",True)\n",
    "print_alignment(seqA,seqB)"
   ]
  },
  {
   "cell_type": "code",
   "execution_count": null,
   "metadata": {
    "collapsed": true
   },
   "outputs": [],
   "source": []
  }
 ],
 "metadata": {
  "kernelspec": {
   "display_name": "Python 2",
   "language": "python",
   "name": "python2"
  },
  "language_info": {
   "codemirror_mode": {
    "name": "ipython",
    "version": 2
   },
   "file_extension": ".py",
   "mimetype": "text/x-python",
   "name": "python",
   "nbconvert_exporter": "python",
   "pygments_lexer": "ipython2",
   "version": "2.7.13"
  }
 },
 "nbformat": 4,
 "nbformat_minor": 2
}

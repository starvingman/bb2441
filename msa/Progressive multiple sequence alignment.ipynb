{
 "cells": [
  {
   "cell_type": "markdown",
   "metadata": {},
   "source": [
    "We build our multiple sequence alignment algorithm on top of the previous code for pairwise alignment, the Needleman-Wunsch algorithm. We hence begi with copying the code from previous example. However, we make edits so that we are pairwise aligning lists of sequences, instead of single sequences against single sequences."
   ]
  },
  {
   "cell_type": "code",
   "execution_count": 15,
   "metadata": {
    "collapsed": true
   },
   "outputs": [],
   "source": [
    "import argparse\n",
    "import numpy as np\n",
    "\n",
    "gap_penalty = -1.0\n",
    "\n",
    "def match_score_pam(seqencesA,posA, sequencesB,posB):\n",
    "    score, n = 0.,0\n",
    "    for seqA in seqencesA:\n",
    "        for seqB in sequencesB:\n",
    "            score += PAM250[seqA[posA]][seqB[posB]]\n",
    "            n += 1\n",
    "    return score/n\n",
    "\n",
    "def align(seqA, seqB, print_dynamic_matrix = False, score = match_score_pam):\n",
    "    # Initiating variables\n",
    "    m, n = len(seqA[0])+1, len(seqB[0])+1\n",
    "    S = np.zeros((m,n))\n",
    "    trace = np.zeros((m,n,2))\n",
    "    # Set up dynamic programming matrices\n",
    "    S[0,0] = 0.\n",
    "    trace[0,0,:] = (0.,0.)\n",
    "    for i in range(1,m):\n",
    "        S[i,0] = gap_penalty * i\n",
    "        trace[i,0,:] = (-1.,0.)\n",
    "    for j in range(1,n):\n",
    "        S[0,j] = gap_penalty * j\n",
    "        trace[0,j,:] = (0.,-1.)\n",
    "    # Set up dynamic programming matrices\n",
    "    for i in range(1,m):\n",
    "        for j in range(1,n):\n",
    "            match = S[i-1][j-1] + score(seqA,i-1,seqB,j-1)\n",
    "            delete = S[i-1][j] + gap_penalty\n",
    "            insert = S[i][j-1] + gap_penalty\n",
    "            S[i,j] = max(match, delete, insert)\n",
    "            if match >= max(delete,insert):\n",
    "                trace[i,j,:] = (-1,-1.)\n",
    "            elif delete >= insert:\n",
    "                trace[i,j,:] = (-1,0)\n",
    "            else:\n",
    "                trace[i,j,:] = (0,-1)\n",
    "    if print_dynamic_matrix:\n",
    "        print_dynamic(seqA,seqB,S)\n",
    "    return S[m-1,n-1],format_msa(seqA,seqB,trace)\n",
    "\n",
    "\n",
    "def format_msa(seqA,seqB,trace):\n",
    "    outA,outB = [\"\" for s in seqA],[\"\" for s in seqB]\n",
    "    i,j = len(seqA[0]),len(seqB[0])\n",
    "    while i>0 or j>0:\n",
    "        di,dj = trace[i,j]\n",
    "        i += int(di)\n",
    "        j += int(dj)\n",
    "        if di == 0:\n",
    "            for ix in range(len(seqA)):\n",
    "                outA[ix] = \"-\" + outA[ix]\n",
    "        else:\n",
    "            for ix in range(len(seqA)):\n",
    "                outA[ix] = seqA[ix][i] + outA[ix]\n",
    "        if dj == 0:\n",
    "            for ix in range(len(seqB)):\n",
    "                outB[ix] = \"-\" + outB[ix]\n",
    "        else:\n",
    "            for ix in range(len(seqB)):\n",
    "                outB[ix] = seqB[ix][j] + outB[ix]\n",
    "    return outA,outB\n",
    "\n",
    "\n",
    "def print_dynamic(seqA,seqB,dpm):\n",
    "    seqA,seqB = \"-\" + seqA, \"-\" + seqB\n",
    "    m,n = len(seqA),len(seqB)\n",
    "    print '{:^5}'.format(\" \"),\n",
    "    for j in range(n):\n",
    "        print '{:^5}'.format(seqB[j]),\n",
    "    print\n",
    "    for i in range(m):\n",
    "        print '{:^5}'.format(seqA[i]),\n",
    "        for j in range(n):\n",
    "            print '{:5.1f}'.format(dpm[i,j]),\n",
    "        print\n",
    "    print\n",
    "\n",
    "PAM250 = {\n",
    "'A': {'A': 2,  'C': -2, 'D':  0, 'E': 0, 'F': -3, 'G':  1, 'H': -1, 'I': -1, 'K': -1, 'L': -2, 'M': -1, 'N':  0, 'P':  1, 'Q':  0, 'R': -2, 'S':  1, 'T':  1, 'V':  0, 'W': -6, 'Y': -3, '-':0},\n",
    "'C': {'A': -2, 'C': 12, 'D': -5, 'E':-5, 'F': -4, 'G': -3, 'H': -3, 'I': -2, 'K': -5, 'L': -6, 'M': -5, 'N': -4, 'P': -3, 'Q': -5, 'R': -4, 'S':  0, 'T': -2, 'V': -2, 'W': -8, 'Y':  0, '-':0},\n",
    "'D': {'A': 0,  'C': -5, 'D':  4, 'E': 3, 'F': -6, 'G':  1, 'H':  1, 'I': -2, 'K':  0, 'L': -4, 'M': -3, 'N':  2, 'P': -1, 'Q':  2, 'R': -1, 'S':  0, 'T':  0, 'V': -2, 'W': -7, 'Y': -4, '-':0},\n",
    "'E': {'A': 0,  'C': -5, 'D':  3, 'E': 4, 'F': -5, 'G':  0, 'H':  1, 'I': -2, 'K':  0, 'L': -3, 'M': -2, 'N':  1, 'P': -1, 'Q':  2, 'R': -1, 'S':  0, 'T':  0, 'V': -2, 'W': -7, 'Y': -4, '-':0},\n",
    "'F': {'A': -3, 'C': -4, 'D': -6, 'E':-5, 'F':  9, 'G': -5, 'H': -2, 'I':  1, 'K': -5, 'L':  2, 'M':  0, 'N': -3, 'P': -5, 'Q': -5, 'R': -4, 'S': -3, 'T': -3, 'V': -1, 'W':  0, 'Y':  7, '-':0},\n",
    "'G': {'A': 1,  'C': -3, 'D':  1, 'E': 0, 'F': -5, 'G':  5, 'H': -2, 'I': -3, 'K': -2, 'L': -4, 'M': -3, 'N':  0, 'P':  0, 'Q': -1, 'R': -3, 'S':  1, 'T':  0, 'V': -1, 'W': -7, 'Y': -5, '-':0},\n",
    "'H': {'A': -1, 'C': -3, 'D':  1, 'E': 1, 'F': -2, 'G': -2, 'H':  6, 'I': -2, 'K':  0, 'L': -2, 'M': -2, 'N':  2, 'P':  0, 'Q':  3, 'R':  2, 'S': -1, 'T': -1, 'V': -2, 'W': -3, 'Y':  0, '-':0},\n",
    "'I': {'A': -1, 'C': -2, 'D': -2, 'E':-2, 'F':  1, 'G': -3, 'H': -2, 'I':  5, 'K': -2, 'L':  2, 'M':  2, 'N': -2, 'P': -2, 'Q': -2, 'R': -2, 'S': -1, 'T':  0, 'V':  4, 'W': -5, 'Y': -1, '-':0},\n",
    "'K': {'A': -1, 'C': -5, 'D':  0, 'E': 0, 'F': -5, 'G': -2, 'H':  0, 'I': -2, 'K':  5, 'L': -3, 'M':  0, 'N':  1, 'P': -1, 'Q':  1, 'R':  3, 'S':  0, 'T':  0, 'V': -2, 'W': -3, 'Y': -4, '-':0},\n",
    "'L': {'A': -2, 'C': -6, 'D': -4, 'E':-3, 'F':  2, 'G': -4, 'H': -2, 'I':  2, 'K': -3, 'L':  6, 'M':  4, 'N': -3, 'P': -3, 'Q': -2, 'R': -3, 'S': -3, 'T': -2, 'V':  2, 'W': -2, 'Y': -1, '-':0},\n",
    "'M': {'A': -1, 'C': -5, 'D': -3, 'E':-2, 'F':  0, 'G': -3, 'H': -2, 'I':  2, 'K':  0, 'L':  4, 'M':  6, 'N': -2, 'P': -2, 'Q': -1, 'R':  0, 'S': -2, 'T': -1, 'V':  2, 'W': -4, 'Y': -2, '-':0},\n",
    "'N': {'A': 0,  'C': -4, 'D':  2, 'E': 1, 'F': -3, 'G':  0, 'H':  2, 'I': -2, 'K':  1, 'L': -3, 'M': -2, 'N':  2, 'P':  0, 'Q':  1, 'R':  0, 'S':  1, 'T':  0, 'V': -2, 'W': -4, 'Y': -2, '-':0},\n",
    "'P': {'A': 1,  'C': -3, 'D': -1, 'E':-1, 'F': -5, 'G':  0, 'H':  0, 'I': -2, 'K': -1, 'L': -3, 'M': -2, 'N':  0, 'P':  6, 'Q':  0, 'R':  0, 'S':  1, 'T':  0, 'V': -1, 'W': -6, 'Y': -5, '-':0},\n",
    "'Q': {'A': 0,  'C': -5, 'D':  2, 'E': 2, 'F': -5, 'G': -1, 'H':  3, 'I': -2, 'K':  1, 'L': -2, 'M': -1, 'N':  1, 'P':  0, 'Q':  4, 'R':  1, 'S': -1, 'T': -1, 'V': -2, 'W': -5, 'Y': -4, '-':0},\n",
    "'R': {'A': -2, 'C': -4, 'D': -1, 'E':-1, 'F': -4, 'G': -3, 'H':  2, 'I': -2, 'K':  3, 'L': -3, 'M':  0, 'N':  0, 'P':  0, 'Q':  1, 'R':  6, 'S':  0, 'T': -1, 'V': -2, 'W':  2, 'Y': -4, '-':0},\n",
    "'S': {'A': 1,  'C':  0, 'D':  0, 'E': 0, 'F': -3, 'G':  1, 'H': -1, 'I': -1, 'K':  0, 'L': -3, 'M': -2, 'N':  1, 'P':  1, 'Q': -1, 'R':  0, 'S':  2, 'T':  1, 'V': -1, 'W': -2, 'Y': -3, '-':0},\n",
    "'T': {'A': 1,  'C': -2, 'D':  0, 'E': 0, 'F': -3, 'G':  0, 'H': -1, 'I':  0, 'K':  0, 'L': -2, 'M': -1, 'N':  0, 'P':  0, 'Q': -1, 'R': -1, 'S':  1, 'T':  3, 'V':  0, 'W': -5, 'Y': -3, '-':0},\n",
    "'V': {'A': 0,  'C': -2, 'D': -2, 'E':-2, 'F': -1, 'G': -1, 'H': -2, 'I':  4, 'K': -2, 'L':  2, 'M':  2, 'N': -2, 'P': -1, 'Q': -2, 'R': -2, 'S': -1, 'T':  0, 'V':  4, 'W': -6, 'Y': -2, '-':0},\n",
    "'W': {'A': -6, 'C': -8, 'D': -7, 'E':-7, 'F':  0, 'G': -7, 'H': -3, 'I': -5, 'K': -3, 'L': -2, 'M': -4, 'N': -4, 'P': -6, 'Q': -5, 'R':  2, 'S': -2, 'T': -5, 'V': -6, 'W': 17, 'Y':  0, '-':0},\n",
    "'Y': {'A': -3, 'C':  0, 'D': -4, 'E':-4, 'F':  7, 'G': -5, 'H':  0, 'I': -1, 'K': -4, 'L': -1, 'M': -2, 'N': -2, 'P': -5, 'Q': -4, 'R': -4, 'S': -3, 'T': -3, 'V': -2, 'W':  0, 'Y': 10, '-':0},\n",
    "'-': {'A': 0,  'C': 0, 'D': 0, 'E':0, 'F': 0, 'G': 0, 'H': 0, 'I':  0, 'K': 0, 'L':  0, 'M':  0, 'N': 0, 'P': 0, 'Q': 0, 'R': 0, 'S': 0, 'T':  0, 'V':  0, 'W': 0, 'Y': 0 ,'-':0}}\n"
   ]
  },
  {
   "cell_type": "markdown",
   "metadata": {},
   "source": [
    "The we add code for computing the progressive alignment, starting with an all against all squence alignment."
   ]
  },
  {
   "cell_type": "code",
   "execution_count": 16,
   "metadata": {
    "collapsed": true
   },
   "outputs": [],
   "source": [
    "def align_all(seqs, debug = False):\n",
    "    sequences = [[s] for s in seqs]\n",
    "    while len(sequences)>1:\n",
    "        k = len(sequences)\n",
    "        scores = np.zeros((k-1,k))\n",
    "        for a in range(k-1):\n",
    "            for b in range(a+1,k):\n",
    "                score,alignment = align(sequences[a],sequences[b])\n",
    "                scores[a,b-1] = score\n",
    "        i,j = np.unravel_index(scores.argmax(),scores.shape)\n",
    "        j += 1\n",
    "        score,(a1,a2) = align(sequences[i],sequences[j])\n",
    "        sequences[i] = a1 + a2\n",
    "        del sequences[j]\n",
    "        if debug:\n",
    "            print \"The algorithm aligned\"\n",
    "            for s in a1:\n",
    "                print s\n",
    "            print \"to\"\n",
    "            for s in a2:\n",
    "                print s\n",
    "            print\n",
    "    return sequences[0]\n"
   ]
  },
  {
   "cell_type": "markdown",
   "metadata": {},
   "source": [
    "Lets try this code for a couple of peptides."
   ]
  },
  {
   "cell_type": "code",
   "execution_count": 17,
   "metadata": {},
   "outputs": [
    {
     "name": "stdout",
     "output_type": "stream",
     "text": [
      "The algorithm aligned\n",
      "IAMAPEPTIDE\n",
      "to\n",
      "IAM-PEPTIDE\n",
      "\n",
      "The algorithm aligned\n",
      "IAMAPEPTIDE\n",
      "IAM-PEPTIDE\n",
      "to\n",
      "IAM-PEPP-ED\n",
      "\n",
      "The algorithm aligned\n",
      "IAMAPEPTIDE\n",
      "IAM-PEPTIDE\n",
      "IAM-PEPP-ED\n",
      "to\n",
      "IAMAPART-ED\n",
      "\n",
      "IAMAPEPTIDE\n",
      "IAM-PEPTIDE\n",
      "IAM-PEPP-ED\n",
      "IAMAPART-ED\n"
     ]
    }
   ],
   "source": [
    "seqs = align_all([\"IAMAPEPTIDE\",\"IAMPEPTIDE\",\"IAMPEPPED\",\"IAMAPARTED\"],True)\n",
    "for s in seqs:\n",
    "    print s"
   ]
  },
  {
   "cell_type": "markdown",
   "metadata": {},
   "source": [
    "Lets try the strategy for something slightly more complex. Here is an alignment of Insulin precursors from Human, Macaque, Dog and Mouse"
   ]
  },
  {
   "cell_type": "code",
   "execution_count": 14,
   "metadata": {},
   "outputs": [
    {
     "name": "stdout",
     "output_type": "stream",
     "text": [
      "The algorithm aligned\n",
      "MALWMRLLPLLALLALWGPDPAAAFVNQHLCGSHLVEALYLVCGERGFFYTPKTRREAED-LQVGQVELGGGPGAGSLQPLALEGSLQKRGIVEQCCTSICSLYQLENYCN\n",
      "to\n",
      "MALWMRLLPLLALLALWGPDPAPAFVNQHLCGSHLVEALYLVCGERGFFYTPKTRREAEDP-QVGQVELGGGPGAGSLQPLALEGSLQKRGIVEQCCTSICSLYQLENYCN\n",
      "\n",
      "The algorithm aligned\n",
      "MALWMRLLPLLALLALWGPDPAAAFVNQHLCGSHLVEALYLVCGERGFFYTPKTRREAED-LQV-GQVELGGGPGAGSLQPLALEGSLQKRGIVEQCCTSICSLYQLENYCN\n",
      "MALWMRLLPLLALLALWGPDPAPAFVNQHLCGSHLVEALYLVCGERGFFYTPKTRREAEDP-QV-GQVELGGGPGAGSLQPLALEGSLQKRGIVEQCCTSICSLYQLENYCN\n",
      "to\n",
      "MALWMRLLPLLALLALWAPAPTRAFVNQHLCGSHLVEALYLVCGERGFFYTPKARREVED-LQVR-DVELAGAPGEGGLQPLALEGALQKRGIVEQCCTSICSLYQLENYCN\n",
      "\n",
      "The algorithm aligned\n",
      "MALWM-RLLPLLALLALWGPDPAAAFVNQHLCGSHLVEALYLVCGERGFFYTPKTRREAED-LQV-GQVELGGGPGAGSLQPLALE-GSLQKRGIVEQCCTSICSLYQLENYCN\n",
      "MALWM-RLLPLLALLALWGPDPAPAFVNQHLCGSHLVEALYLVCGERGFFYTPKTRREAEDP-QV-GQVELGGGPGAGSLQPLALE-GSLQKRGIVEQCCTSICSLYQLENYCN\n",
      "MALWM-RLLPLLALLALWAPAPTRAFVNQHLCGSHLVEALYLVCGERGFFYTPKARREVED-LQVR-DVELAGAPGEGGLQPLALE-GALQKRGIVEQCCTSICSLYQLENYCN\n",
      "to\n",
      "MAL-LVHFLPLLALLALWEPKPTQAFVKQHLCGPHLVEALYLVCGERGFFYTPKSRREVEDP-QV-EQLELGGSPG-D-LQTLALEVAR-QKRGIVDQCCTSICSLYQLENYCN\n",
      "\n",
      "MALWM-RLLPLLALLALWGPDPAAAFVNQHLCGSHLVEALYLVCGERGFFYTPKTRREAED-LQV-GQVELGGGPGAGSLQPLALE-GSLQKRGIVEQCCTSICSLYQLENYCN\n",
      "MALWM-RLLPLLALLALWGPDPAPAFVNQHLCGSHLVEALYLVCGERGFFYTPKTRREAEDP-QV-GQVELGGGPGAGSLQPLALE-GSLQKRGIVEQCCTSICSLYQLENYCN\n",
      "MALWM-RLLPLLALLALWAPAPTRAFVNQHLCGSHLVEALYLVCGERGFFYTPKARREVED-LQVR-DVELAGAPGEGGLQPLALE-GALQKRGIVEQCCTSICSLYQLENYCN\n",
      "MAL-LVHFLPLLALLALWEPKPTQAFVKQHLCGPHLVEALYLVCGERGFFYTPKSRREVEDP-QV-EQLELGGSPG-D-LQTLALEVAR-QKRGIVDQCCTSICSLYQLENYCN\n"
     ]
    }
   ],
   "source": [
    "seqs = align_all([\"MALWMRLLPLLALLALWGPDPAAAFVNQHLCGSHLVEALYLVCGERGFFYTPKTRREAEDLQVGQVELGGGPGAGSLQPLALEGSLQKRGIVEQCCTSICSLYQLENYCN\",\n",
    "                  \"MALWMRLLPLLALLALWGPDPAPAFVNQHLCGSHLVEALYLVCGERGFFYTPKTRREAEDPQVGQVELGGGPGAGSLQPLALEGSLQKRGIVEQCCTSICSLYQLENYCN\",\n",
    "                  \"MALWMRLLPLLALLALWAPAPTRAFVNQHLCGSHLVEALYLVCGERGFFYTPKARREVEDLQVRDVELAGAPGEGGLQPLALEGALQKRGIVEQCCTSICSLYQLENYCN\",\n",
    "                  \"MALLVHFLPLLALLALWEPKPTQAFVKQHLCGPHLVEALYLVCGERGFFYTPKSRREVEDPQVEQLELGGSPGDLQTLALEVARQKRGIVDQCCTSICSLYQLENYCN\"],True)\n",
    "for s in seqs:\n",
    "    print s"
   ]
  },
  {
   "cell_type": "code",
   "execution_count": null,
   "metadata": {
    "collapsed": true
   },
   "outputs": [],
   "source": []
  }
 ],
 "metadata": {
  "kernelspec": {
   "display_name": "Python 2",
   "language": "python",
   "name": "python2"
  },
  "language_info": {
   "codemirror_mode": {
    "name": "ipython",
    "version": 2
   },
   "file_extension": ".py",
   "mimetype": "text/x-python",
   "name": "python",
   "nbconvert_exporter": "python",
   "pygments_lexer": "ipython2",
   "version": "2.7.13"
  }
 },
 "nbformat": 4,
 "nbformat_minor": 2
}
